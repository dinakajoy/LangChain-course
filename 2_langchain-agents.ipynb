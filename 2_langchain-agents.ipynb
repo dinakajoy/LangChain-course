{
 "cells": [
  {
   "cell_type": "markdown",
   "id": "ff081e13-2fb4-4872-8861-075248f718b5",
   "metadata": {},
   "source": [
    "# LangChain Agents"
   ]
  },
  {
   "cell_type": "code",
   "execution_count": 5,
   "id": "f0037173-b1e8-4bfd-8324-338b8e4a29b8",
   "metadata": {},
   "outputs": [
    {
     "name": "stdout",
     "output_type": "stream",
     "text": [
      "Note: you may need to restart the kernel to use updated packages.\n"
     ]
    }
   ],
   "source": [
    "pip install -r ./files/requirements.txt -q"
   ]
  },
  {
   "cell_type": "markdown",
   "id": "9ec967a0-41b4-4674-a998-1163a68f4dee",
   "metadata": {},
   "source": [
    "## Python dotenv"
   ]
  },
  {
   "cell_type": "code",
   "execution_count": 6,
   "id": "448174df-c635-45f2-bcea-3c6bd768a335",
   "metadata": {},
   "outputs": [
    {
     "data": {
      "text/plain": [
       "True"
      ]
     },
     "execution_count": 6,
     "metadata": {},
     "output_type": "execute_result"
    }
   ],
   "source": [
    "import os\n",
    "from dotenv import load_dotenv, find_dotenv\n",
    "\n",
    "load_dotenv(find_dotenv(), override=True)"
   ]
  },
  {
   "cell_type": "markdown",
   "id": "7d6fe3fa-d862-470c-88a6-9bf0ba756aa4",
   "metadata": {},
   "source": [
    "## Python REPL"
   ]
  },
  {
   "cell_type": "code",
   "execution_count": 7,
   "id": "b57fe0b6-a446-484f-962a-5b0731736941",
   "metadata": {},
   "outputs": [
    {
     "name": "stdout",
     "output_type": "stream",
     "text": [
      "Note: you may need to restart the kernel to use updated packages.\n"
     ]
    }
   ],
   "source": [
    "pip install -q langchain_experimental"
   ]
  },
  {
   "cell_type": "code",
   "execution_count": 8,
   "id": "e3293429-77ec-4782-b58f-1421c9095336",
   "metadata": {},
   "outputs": [
    {
     "name": "stderr",
     "output_type": "stream",
     "text": [
      "Python REPL can execute arbitrary code. Use with caution.\n"
     ]
    },
    {
     "data": {
      "text/plain": [
       "'[13, 26, 39, 52, 65, 78, 91]\\n'"
      ]
     },
     "execution_count": 8,
     "metadata": {},
     "output_type": "execute_result"
    }
   ],
   "source": [
    "from langchain_experimental.utilities import PythonREPL\n",
    "python_repl = PythonREPL()\n",
    "python_repl.run('print([n for n in range(1, 100) if n % 13 ==0])')"
   ]
  },
  {
   "cell_type": "code",
   "execution_count": 9,
   "id": "37b716f8-0275-497f-9f2f-22086c22b495",
   "metadata": {},
   "outputs": [
    {
     "name": "stdout",
     "output_type": "stream",
     "text": [
      "\n",
      "\n",
      "\u001b[1m> Entering new AgentExecutor chain...\u001b[0m\n",
      "\u001b[32;1m\u001b[1;3mTo solve this, I will first calculate the factorial of 12 using the math module's factorial function. Then, I will calculate the square root of that result using the math module's sqrt function. Finally, I will format the result to display it with 2 decimal points.\n",
      "Action: Python_REPL\n",
      "Action Input: import math\n",
      "print(f\"{math.sqrt(math.factorial(12)):.2f}\")\u001b[0m\n",
      "Observation: \u001b[36;1m\u001b[1;3m21886.11\n",
      "\u001b[0m\n",
      "Thought:\u001b[32;1m\u001b[1;3mI now know the final answer\n",
      "Final Answer: 21886.11\u001b[0m\n",
      "\n",
      "\u001b[1m> Finished chain.\u001b[0m\n"
     ]
    },
    {
     "data": {
      "text/plain": [
       "{'input': 'Calculate the square root of the factorial of 12 and display it with 2 decimal points',\n",
       " 'output': '21886.11'}"
      ]
     },
     "execution_count": 9,
     "metadata": {},
     "output_type": "execute_result"
    }
   ],
   "source": [
    "from langchain_experimental.agents.agent_toolkits import create_python_agent\n",
    "from langchain_experimental.tools.python.tool import PythonREPLTool\n",
    "from langchain_openai import ChatOpenAI\n",
    "\n",
    "llm = ChatOpenAI(model='gpt-4-turbo-preview', temperature=0)\n",
    "agent_executor = create_python_agent(\n",
    "    llm=llm,\n",
    "    tool=PythonREPLTool(),\n",
    "    verbose=True\n",
    ")\n",
    "\n",
    "agent_executor.invoke('Calculate the square root of the factorial of 12 and display it with 2 decimal points')"
   ]
  },
  {
   "cell_type": "code",
   "execution_count": 12,
   "id": "09804c57-2037-4c92-82c9-a692ace0488f",
   "metadata": {},
   "outputs": [
    {
     "name": "stdout",
     "output_type": "stream",
     "text": [
      "\n",
      "\n",
      "\u001b[1m> Entering new AgentExecutor chain...\u001b[0m\n",
      "\u001b[32;1m\u001b[1;3mI will calculate the power of 5.1 raised to 7.3 using Python.\n",
      "Action: Python_REPL\n",
      "Action Input: print(5.1 ** 7.3)\u001b[0m\n",
      "Observation: \u001b[36;1m\u001b[1;3m146306.05007233328\n",
      "\u001b[0m\n",
      "Thought:\u001b[32;1m\u001b[1;3mI now know the final answer\n",
      "Final Answer: 146306.05007233328\u001b[0m\n",
      "\n",
      "\u001b[1m> Finished chain.\u001b[0m\n"
     ]
    }
   ],
   "source": [
    "response = agent_executor.invoke('What is the answer to 5.1 ** 7.3?')"
   ]
  },
  {
   "cell_type": "code",
   "execution_count": 13,
   "id": "39161bc0-5185-4331-bb1f-ecca135c3153",
   "metadata": {},
   "outputs": [
    {
     "data": {
      "text/plain": [
       "{'input': 'What is the answer to 5.1 ** 7.3?', 'output': '146306.05007233328'}"
      ]
     },
     "execution_count": 13,
     "metadata": {},
     "output_type": "execute_result"
    }
   ],
   "source": [
    "response"
   ]
  },
  {
   "cell_type": "code",
   "execution_count": 14,
   "id": "54769326-f3bc-46cf-978c-ad2dbe9cfaf0",
   "metadata": {},
   "outputs": [
    {
     "name": "stdout",
     "output_type": "stream",
     "text": [
      "What is the answer to 5.1 ** 7.3?\n"
     ]
    }
   ],
   "source": [
    "print(response['input'])"
   ]
  },
  {
   "cell_type": "code",
   "execution_count": 15,
   "id": "31ebd4dc-95f6-4219-adf3-0435786d3314",
   "metadata": {},
   "outputs": [
    {
     "name": "stdout",
     "output_type": "stream",
     "text": [
      "146306.05007233328\n"
     ]
    }
   ],
   "source": [
    "print(response['output'])"
   ]
  },
  {
   "cell_type": "markdown",
   "id": "1e565e92-d56b-4631-b177-bfcf6bf1c1e6",
   "metadata": {},
   "source": [
    "## LangChain Tools: DuckDuckGo and Wikipedia"
   ]
  },
  {
   "cell_type": "code",
   "execution_count": 16,
   "id": "0552f9b3-f24f-4fd9-8efd-bbbdf1153d6e",
   "metadata": {},
   "outputs": [
    {
     "name": "stdout",
     "output_type": "stream",
     "text": [
      "Note: you may need to restart the kernel to use updated packages.\n"
     ]
    }
   ],
   "source": [
    "pip install -q duckduckgo-search"
   ]
  },
  {
   "cell_type": "code",
   "execution_count": 21,
   "id": "aa110e43-08a8-4a49-b145-877ba1d88b19",
   "metadata": {},
   "outputs": [],
   "source": [
    "# optional, filter workings (recommended in production)\n",
    "import warnings\n",
    "warnings.filterwarnings('ignore', module='langchain')"
   ]
  },
  {
   "cell_type": "code",
   "execution_count": 22,
   "id": "cdda6837-33ad-42f3-bc13-f5cb41fd76b2",
   "metadata": {},
   "outputs": [
    {
     "name": "stdout",
     "output_type": "stream",
     "text": [
      "['6 days ago - Mercury defied the conventions of a rock frontman with his theatrical style, influencing the artistic direction of Queen. Born in 1946 in Zanzibar to Parsi-Indian parents, Mercury attended British boarding schools in India from the age of eight and returned to Zanzibar after secondary school.', '1 day ago - Freddie Mercury was born Farrokh Bulsara on 5 September 1946 in Stone Town in the British protectorate of the Zanzibar (now part of Tanzania). His parents were Jer and Bomi Bulsara, who were both Zoroastrians, from India.His father worked as a cashier in the British Colonial Office, a branch ...', 'July 10, 2025 - Freddie Mercury (born September 5, 1946, Stone Town, Zanzibar [now in Tanzania]—died November 24, 1991, Kensington, London, England) was a British rock singer and songwriter whose flamboyant showmanship and powerfully agile vocals, most famously for the band Queen, made him one of rock’s ...']\n"
     ]
    }
   ],
   "source": [
    "from ddgs import DDGS\n",
    "\n",
    "def search_duckduckgo(query, max_results=3):\n",
    "    with DDGS() as ddgs:\n",
    "        results = ddgs.text(query)\n",
    "        return [res[\"body\"] for res in results[:max_results]]\n",
    "\n",
    "output = search_duckduckgo('Where was Freddie Mercury born?')\n",
    "print(output)"
   ]
  },
  {
   "cell_type": "code",
   "execution_count": 23,
   "id": "3a840fd8-df8b-4968-a640-a0c7176ab68d",
   "metadata": {},
   "outputs": [
    {
     "name": "stdout",
     "output_type": "stream",
     "text": [
      "Freddie Mercury (born Farrokh Bulsara; 5 September 1946 – 24 November 1991) was a British singer and songwriter who achieved global fame as the lead vocalist and pianist of the rock band Queen .\n"
     ]
    }
   ],
   "source": [
    "from langchain_core.tools import tool\n",
    "from ddgs import DDGS\n",
    "\n",
    "@tool\n",
    "def duckduckgo_search(query: str) -> str:\n",
    "    \"\"\"Search DuckDuckGo for recent or relevant info.\"\"\"\n",
    "    with DDGS() as ddgs:\n",
    "        results = ddgs.text(query)\n",
    "        return results[0][\"body\"] if results else \"No results found\"\n",
    "\n",
    "output = duckduckgo_search.invoke(\"Freddie Mercury and Queen\")\n",
    "print(output)"
   ]
  },
  {
   "cell_type": "code",
   "execution_count": 25,
   "id": "bdd78114-9564-4032-b286-7244bc23f010",
   "metadata": {},
   "outputs": [
    {
     "name": "stderr",
     "output_type": "stream",
     "text": [
      "/opt/anaconda3/lib/python3.12/site-packages/langchain_community/utilities/duckduckgo_search.py:63: RuntimeWarning: This package (`duckduckgo_search`) has been renamed to `ddgs`! Use `pip install ddgs` instead.\n",
      "  with DDGS() as ddgs:\n"
     ]
    },
    {
     "name": "stdout",
     "output_type": "stream",
     "text": [
      "snippet: 15. Mai 2025 · Siemens Energy will ein Hochhaus in Berlin bauen, am Siemens Energy Standort Huttenstraße. Es soll ein repräsentatives Gebäude unter anderem für die eigene …, title: Berlin | Siemens Energy Hochhaus am Standort Huttenstraße | In …, link: https://www.skyscrapercity.com/threads/berlin-siemens-energy-hochhaus-am-standort-huttenstraße-in-planung.2436153/, snippet: 31. Mai 2011 · The Berlin City Palace or Berlin Palace (Berliner Stadtschloss aka Berliner Schloss in German) is (partly) getting reconstructed. It's scheduled to be finished and opened as the …, title: BERLIN | City Palace Reconstruction ... - SkyscraperCity Forum, link: https://www.skyscrapercity.com/threads/berlin-city-palace-reconstruction-stadtschloss-humboldt-forum-u-c.1390928/, snippet: 25. März 2015 · Berlin | Covivio Tower | 130m | In Bau alex alexanderplatz baustelle blackstone investor kneipe kollhoff neubau parkinn primark projekt sockelbau stadtkrone strandbar 2 …, title: Berlin | Covivio Tower | 130m | In Bau - SkyscraperCity Forum, link: https://www.skyscrapercity.com/threads/berlin-covivio-tower-130m-in-bau.1808548/, snippet: 30. Apr. 2010 · Berlin | Molkenmarkt, Klosterviertel und Nikolaiviertel - Bauvorhaben Ludi Mar 19, 2013 14 15 16 455 227K, title: Berlin - SkyscraperCity Forum, link: https://www.skyscrapercity.com/forums/berlin.819/\n"
     ]
    }
   ],
   "source": [
    "from langchain_community.utilities import DuckDuckGoSearchAPIWrapper\n",
    "from langchain.tools import DuckDuckGoSearchResults\n",
    "\n",
    "wrapper = DuckDuckGoSearchAPIWrapper(region='de-de', max_results=3, safesearch='moderate')\n",
    "search = DuckDuckGoSearchResults(api_wrapper=wrapper, source='news')\n",
    "output = search.run('Berlin')\n",
    "print(output)"
   ]
  },
  {
   "cell_type": "code",
   "execution_count": 27,
   "id": "754951c4-8712-49a0-b721-a4ae87c6f048",
   "metadata": {},
   "outputs": [
    {
     "data": {
      "text/plain": [
       "'duckduckgo_results_json'"
      ]
     },
     "execution_count": 27,
     "metadata": {},
     "output_type": "execute_result"
    }
   ],
   "source": [
    "search.name"
   ]
  },
  {
   "cell_type": "code",
   "execution_count": 28,
   "id": "b26e0f60-5d9d-47a0-ac83-4ab4a37c78a3",
   "metadata": {},
   "outputs": [
    {
     "data": {
      "text/plain": [
       "'A wrapper around Duck Duck Go Search. Useful for when you need to answer questions about current events. Input should be a search query.'"
      ]
     },
     "execution_count": 28,
     "metadata": {},
     "output_type": "execute_result"
    }
   ],
   "source": [
    "search.description"
   ]
  },
  {
   "cell_type": "code",
   "execution_count": 26,
   "id": "f62da2c8-3e33-4ab4-bce2-145e708d6568",
   "metadata": {},
   "outputs": [
    {
     "name": "stdout",
     "output_type": "stream",
     "text": [
      "Snippet: 15. Mai 2025 · Siemens Energy will ein Hochhaus in Berlin bauen, am Siemens Energy Standort Huttenstraße. Es soll ein repräsentatives Gebäude unter anderem für die eigene …\n",
      "Title: Berlin | Siemens Energy Hochhaus am Standort Huttenstraße | In …\n",
      "Link: https://www.skyscrapercity.com/threads/berlin-siemens-energy-hochhaus-am-standort-huttenstraße-in-planung.2436153/\n",
      "\n",
      "--------------------------------------------------\n",
      "Snippet: 31. Mai 2011 · The Berlin City Palace or Berlin Palace (Berliner Stadtschloss aka Berliner Schloss in German) is (partly) getting reconstructed. It's scheduled to be finished and opened as the …\n",
      "Title: BERLIN | City Palace Reconstruction ... - SkyscraperCity Forum\n",
      "Link: https://www.skyscrapercity.com/threads/berlin-city-palace-reconstruction-stadtschloss-humboldt-forum-u-c.1390928/\n",
      "\n",
      "--------------------------------------------------\n",
      "Snippet: 25. März 2015 · Berlin | Covivio Tower | 130m | In Bau alex alexanderplatz baustelle blackstone investor kneipe kollhoff neubau parkinn primark projekt sockelbau stadtkrone strandbar 2 …\n",
      "Title: Berlin | Covivio Tower | 130m | In Bau - SkyscraperCity Forum\n",
      "Link: https://www.skyscrapercity.com/threads/berlin-covivio-tower-130m-in-bau.1808548/\n",
      "\n",
      "--------------------------------------------------\n",
      "Snippet: 30. Apr. 2010 · Berlin | Molkenmarkt, Klosterviertel und Nikolaiviertel - Bauvorhaben Ludi Mar 19, 2013 14 15 16 455 227K\n",
      "Title: Berlin - SkyscraperCity Forum\n",
      "Link: https://www.skyscrapercity.com/forums/berlin.819/\n",
      "\n",
      "--------------------------------------------------\n"
     ]
    }
   ],
   "source": [
    "import re\n",
    "\n",
    "pattern = r'snippet:\\s*(.*?),\\s*title:\\s*(.*?),\\s*link:\\s*(https?://[^\\s,]+)'\n",
    "matches = re.findall(pattern, output, re.DOTALL)\n",
    "\n",
    "for snippet, title, link in matches:\n",
    "    print(f'Snippet: {snippet}\\nTitle: {title}\\nLink: {link}\\n')\n",
    "    print('-' * 50)"
   ]
  },
  {
   "cell_type": "markdown",
   "id": "bc02dc88-0692-4ada-96f8-19ec334c538c",
   "metadata": {},
   "source": [
    "### Wikipedia"
   ]
  },
  {
   "cell_type": "code",
   "execution_count": 29,
   "id": "6a157cd0-291c-4028-9167-f829bd76fcf0",
   "metadata": {},
   "outputs": [
    {
     "name": "stderr",
     "output_type": "stream",
     "text": [
      "/opt/anaconda3/lib/python3.12/pty.py:95: DeprecationWarning: This process (pid=31206) is multi-threaded, use of forkpty() may lead to deadlocks in the child.\n",
      "  pid, fd = os.forkpty()\n"
     ]
    },
    {
     "name": "stdout",
     "output_type": "stream",
     "text": [
      "Note: you may need to restart the kernel to use updated packages.\n"
     ]
    }
   ],
   "source": [
    "pip install -q wikipedia"
   ]
  },
  {
   "cell_type": "code",
   "execution_count": 30,
   "id": "88f5bd9f-d2eb-4280-a959-4eae1d17aa15",
   "metadata": {},
   "outputs": [
    {
     "data": {
      "text/plain": [
       "'Page: Vector database\\nSummary: A vector database, vector store or vector search engine is a database that uses the vector space model to store vectors (fixed-length lists of numbers) along with other data items. Vector databases typically implement one or more approximate nearest neighbor algorithms, so that one can search the database with a query vector to retrieve the closest matching database records.\\nVectors are mathematical representations of data in a high-dimensional space. In this space, each dimension corresponds to a feature of the data, with the number of dimensions ranging from a few hundred to tens of thousands, depending on the complexity of the data being represented. A vector\\'s position in this space represents its characteristics. Words, phrases, or entire documents, as well as images, audio, and other types of data, can all be vectorized.\\nThese feature vectors may be computed from the raw data using machine learning methods such as feature extraction algorithms, word embeddings or deep learning networks. The goal is that semantically similar data items receive feature vectors close to each other.\\nVector databases can be used for similarity search, semantic search, multi-modal search, recommendations engines, large language models (LLMs), object detection,  etc.\\nVector databases are also often used to implement retrieval-augmented generation (RAG), a method to improve domain-specific responses of large language models. The retrieval component of a RAG can be any search system, but is most often implemented as a vector database. Text documents describing the domain of interest are collected, and for each document or document section, a feature vector (known as an \"embedding\") is computed, typically using a deep learning network, and stored in a vector database. Given a user prompt, the feature vector of the prompt is computed, and the database is queried to retrieve the most relevant documents. These are then automatically added into the context window of the large language model, and the large language model proceeds to create a response to the prompt given this context.'"
      ]
     },
     "execution_count": 30,
     "metadata": {},
     "output_type": "execute_result"
    }
   ],
   "source": [
    "from langchain_community.tools import WikipediaQueryRun\n",
    "from langchain_community.utilities import WikipediaAPIWrapper\n",
    "\n",
    "api_wrapper = WikipediaAPIWrapper(top_k_results=1, doc_content_chars_max=5000)\n",
    "wiki = WikipediaQueryRun(api_wrapper=api_wrapper)\n",
    "wiki.invoke({'query': 'llamaindex'})"
   ]
  },
  {
   "cell_type": "code",
   "execution_count": 31,
   "id": "fef68538-e891-4a5c-b74b-6c37a2bfbf31",
   "metadata": {},
   "outputs": [
    {
     "data": {
      "text/plain": [
       "\"Page: Gemini (chatbot)\\nSummary: Gemini is a generative artificial intelligence chatbot developed by Google. Based on the large language model (LLM) of the same name, it was launched in February 2024. Its predecessor, Bard, was launched in March 2023 in response to the rise of OpenAI's ChatGPT and was based on the LaMDA and PaLM LLMs.\\n\\n\""
      ]
     },
     "execution_count": 31,
     "metadata": {},
     "output_type": "execute_result"
    }
   ],
   "source": [
    "wiki.invoke('Google Gemini')"
   ]
  },
  {
   "cell_type": "code",
   "execution_count": 32,
   "id": "5eaaf9c4-7982-4819-9238-b919c2f9587a",
   "metadata": {},
   "outputs": [
    {
     "name": "stdout",
     "output_type": "stream",
     "text": [
      "snippet: 15. Mai 2025 · Siemens Energy will ein Hochhaus in Berlin bauen, am Siemens Energy Standort Huttenstraße. Es soll ein repräsentatives Gebäude unter anderem für die eigene …, title: Berlin | Siemens Energy Hochhaus am Standort Huttenstraße | In …, link: https://www.skyscrapercity.com/threads/berlin-siemens-energy-hochhaus-am-standort-huttenstraße-in-planung.2436153/, snippet: 31. Mai 2011 · The Berlin City Palace or Berlin Palace (Berliner Stadtschloss aka Berliner Schloss in German) is (partly) getting reconstructed. It's scheduled to be finished and opened as the …, title: BERLIN | City Palace Reconstruction ... - SkyscraperCity Forum, link: https://www.skyscrapercity.com/threads/berlin-city-palace-reconstruction-stadtschloss-humboldt-forum-u-c.1390928/, snippet: 25. März 2015 · Berlin | Covivio Tower | 130m | In Bau alex alexanderplatz baustelle blackstone investor kneipe kollhoff neubau parkinn primark projekt sockelbau stadtkrone strandbar 2 …, title: Berlin | Covivio Tower | 130m | In Bau - SkyscraperCity Forum, link: https://www.skyscrapercity.com/threads/berlin-covivio-tower-130m-in-bau.1808548/, snippet: 30. Apr. 2010 · Berlin | Molkenmarkt, Klosterviertel und Nikolaiviertel - Bauvorhaben Ludi Mar 19, 2013 14 15 16 455 227K, title: Berlin - SkyscraperCity Forum, link: https://www.skyscrapercity.com/forums/berlin.819/\n"
     ]
    }
   ],
   "source": [
    "print(output)"
   ]
  },
  {
   "cell_type": "markdown",
   "id": "c5221217-01e8-4be7-91cb-427b4ca3e51a",
   "metadata": {},
   "source": [
    "## Creating a ReAct Agent"
   ]
  },
  {
   "cell_type": "code",
   "execution_count": 33,
   "id": "c09644c3-50b3-4eff-900b-3e43b833794f",
   "metadata": {},
   "outputs": [
    {
     "name": "stderr",
     "output_type": "stream",
     "text": [
      "/opt/anaconda3/lib/python3.12/pty.py:95: DeprecationWarning: This process (pid=31206) is multi-threaded, use of forkpty() may lead to deadlocks in the child.\n",
      "  pid, fd = os.forkpty()\n"
     ]
    },
    {
     "name": "stdout",
     "output_type": "stream",
     "text": [
      "Note: you may need to restart the kernel to use updated packages.\n"
     ]
    }
   ],
   "source": [
    "pip install langchainhub -q"
   ]
  },
  {
   "cell_type": "code",
   "execution_count": 34,
   "id": "c97c16fd-0d5c-426c-9d5c-d68f89f3d546",
   "metadata": {},
   "outputs": [
    {
     "name": "stderr",
     "output_type": "stream",
     "text": [
      "/opt/anaconda3/lib/python3.12/site-packages/langsmith/client.py:272: LangSmithMissingAPIKeyWarning: API key must be provided when using hosted LangSmith API\n",
      "  warnings.warn(\n"
     ]
    },
    {
     "name": "stdout",
     "output_type": "stream",
     "text": [
      "<class 'langchain_core.prompts.prompt.PromptTemplate'>\n",
      "['agent_scratchpad', 'input', 'tool_names', 'tools']\n",
      "Answer the following questions as best you can. You have access to the following tools:\n",
      "\n",
      "{tools}\n",
      "\n",
      "Use the following format:\n",
      "\n",
      "Question: the input question you must answer\n",
      "Thought: you should always think about what to do\n",
      "Action: the action to take, should be one of [{tool_names}]\n",
      "Action Input: the input to the action\n",
      "Observation: the result of the action\n",
      "... (this Thought/Action/Action Input/Observation can repeat N times)\n",
      "Thought: I now know the final answer\n",
      "Final Answer: the final answer to the original input question\n",
      "\n",
      "Begin!\n",
      "\n",
      "Question: {input}\n",
      "Thought:{agent_scratchpad}\n"
     ]
    }
   ],
   "source": [
    "from langchain.prompts import PromptTemplate\n",
    "from langchain import hub\n",
    "from langchain.agents import Tool, AgentExecutor, initialize_agent, create_react_agent\n",
    "from langchain.tools import DuckDuckGoSearchRun, WikipediaQueryRun\n",
    "from langchain.utilities import WikipediaAPIWrapper\n",
    "from langchain_experimental.tools.python.tool import PythonREPLTool\n",
    "from langchain_openai import ChatOpenAI\n",
    "\n",
    "llm = ChatOpenAI(model_name='gpt-4-turbo-preview', temperature=0)\n",
    "\n",
    "template = '''\n",
    "Answer the following questions as best you can.\n",
    "Questions: {q}\n",
    "'''\n",
    "prompt_template = PromptTemplate.from_template(template)\n",
    "\n",
    "#Fetches a pre-built ReAct prompt from the LangChain Hub\n",
    "prompt = hub.pull('hwchase17/react')\n",
    "\n",
    "print(type(prompt))\n",
    "print(prompt.input_variables)\n",
    "print(prompt.template)"
   ]
  },
  {
   "cell_type": "code",
   "execution_count": 35,
   "id": "6da7452c-80f8-4fca-96d0-2a2fc12bcfa2",
   "metadata": {},
   "outputs": [],
   "source": [
    "# 1. Python REPL Tool (for executing Python code)\n",
    "python_repl = PythonREPLTool()\n",
    "python_repl_tool = Tool(\n",
    "    name='Python REPL',\n",
    "    func=python_repl.run,\n",
    "    description='Useful when you need to use Python to answer a question. You should input Python code.'\n",
    ")\n",
    "\n",
    "# 2. Wikipedia Tool (for searching Wikipedia)\n",
    "api_wrapper = WikipediaAPIWrapper()\n",
    "wikipedia = WikipediaQueryRun(api_wrapper=api_wrapper)\n",
    "wikipedia_tool = Tool(\n",
    "    name='Wikipedia',\n",
    "    func=wikipedia.run,\n",
    "    description='Useful for when you need to look up a topic, country, or person on Wikipedia.'\n",
    ")\n",
    "\n",
    "# 3. DuckDuckGo Search Tool (for general web searches)\n",
    "search = DuckDuckGoSearchRun()\n",
    "duckduckgo_tool = Tool(\n",
    "    name='DuckDuckGo Search',\n",
    "    func=search.run,\n",
    "    description='Useful for when you need to perform an internet search to find information that another tool can\\'t provide.'\n",
    ")\n",
    "\n",
    "tools = [python_repl_tool, wikipedia_tool, duckduckgo_tool]\n",
    "\n",
    "agent = create_react_agent(llm, tools, prompt)\n",
    "agent_executor = AgentExecutor(\n",
    "    agent=agent,\n",
    "    tools=tools,\n",
    "    verbose=True,\n",
    "    handle_parsing_errors=True,\n",
    "    max_iterations=10\n",
    ")"
   ]
  },
  {
   "cell_type": "code",
   "execution_count": 36,
   "id": "97ab9f2d-d61f-4414-b6b7-9066e81965b0",
   "metadata": {},
   "outputs": [
    {
     "name": "stdout",
     "output_type": "stream",
     "text": [
      "\n",
      "\n",
      "\u001b[1m> Entering new AgentExecutor chain...\u001b[0m\n",
      "\u001b[32;1m\u001b[1;3mTo generate the first 20 numbers in the Fibonacci series, I can write a simple Python program that iterates 20 times, each time calculating the next number in the series by summing up the two preceding numbers.\n",
      "\n",
      "Action: Python REPL\n",
      "\n",
      "Action Input:\n",
      "```python\n",
      "def fibonacci(n):\n",
      "    fib_series = [0, 1]\n",
      "    for i in range(2, n):\n",
      "        next_fib = fib_series[-1] + fib_series[-2]\n",
      "        fib_series.append(next_fib)\n",
      "    return fib_series\n",
      "\n",
      "fibonacci(20)\n",
      "```\n",
      "\u001b[0m\u001b[36;1m\u001b[1;3m\u001b[0m\u001b[32;1m\u001b[1;3mI now know the final answer\n",
      "\n",
      "Final Answer: The first 20 numbers in the Fibonacci series are: 0, 1, 1, 2, 3, 5, 8, 13, 21, 34, 55, 89, 144, 233, 377, 610, 987, 1597, 2584, 4181.\u001b[0m\n",
      "\n",
      "\u001b[1m> Finished chain.\u001b[0m\n"
     ]
    }
   ],
   "source": [
    "question = 'Generate the first 20 numbers in the Fibonacci series.'\n",
    "output = agent_executor.invoke({\n",
    "    'input': prompt_template.format(q=question)\n",
    "})"
   ]
  },
  {
   "cell_type": "code",
   "execution_count": 37,
   "id": "349153d1-b2ee-4d4f-bbcf-f64100007f11",
   "metadata": {},
   "outputs": [
    {
     "name": "stdout",
     "output_type": "stream",
     "text": [
      "\n",
      "Answer the following questions as best you can.\n",
      "Questions: Generate the first 20 numbers in the Fibonacci series.\n",
      "\n"
     ]
    }
   ],
   "source": [
    "print(output['input'])"
   ]
  },
  {
   "cell_type": "code",
   "execution_count": 38,
   "id": "eae2f72d-daaa-4b13-b4b5-0f30341f6e5e",
   "metadata": {},
   "outputs": [
    {
     "name": "stdout",
     "output_type": "stream",
     "text": [
      "The first 20 numbers in the Fibonacci series are: 0, 1, 1, 2, 3, 5, 8, 13, 21, 34, 55, 89, 144, 233, 377, 610, 987, 1597, 2584, 4181.\n"
     ]
    }
   ],
   "source": [
    "print(output['output'])"
   ]
  },
  {
   "cell_type": "code",
   "execution_count": 39,
   "id": "fbb3b41e-7589-4c66-aff9-1ec9182afafc",
   "metadata": {},
   "outputs": [
    {
     "name": "stdout",
     "output_type": "stream",
     "text": [
      "\n",
      "\n",
      "\u001b[1m> Entering new AgentExecutor chain...\u001b[0m\n",
      "\u001b[32;1m\u001b[1;3mTo find out the current Prime Minister of the UK, I can use the Wikipedia tool to get the most up-to-date information.\n",
      "\n",
      "Action: Wikipedia\n",
      "\n",
      "Action Input: Current Prime Minister of the UK\n",
      "\u001b[0m\u001b[33;1m\u001b[1;3mPage: List of prime ministers of the United Kingdom\n",
      "Summary: The prime minister of the United Kingdom is the principal minister of the crown of His Majesty's Government, and the head of the British Cabinet. \n",
      "There is no specific date for when the office of prime minister first appeared, as the role was not created but rather evolved over time through a merger of duties. The term was regularly, if informally, used by Robert Walpole by the 1730s. It was used in the House of Commons as early as 1805, and it was certainly in parliamentary use by the 1880s, although did not become the official title until 1905, when Henry Campbell-Bannerman was prime minister.  \n",
      "Historians generally consider Robert Walpole, who led the government of the Kingdom of Great Britain for over twenty years from 1721, to be the first prime minister. Walpole is also the longest-serving British prime minister by this definition. The first prime minister of the United Kingdom of Great Britain and Ireland was William Pitt the Younger at its creation on 1 January 1801. The first to use the title in an official act was Benjamin Disraeli who signed the 1878 Treaty of Berlin as \"Prime Minister of Her Britannic Majesty\".\n",
      "In 1905, the post of prime minister was officially given recognition in the order of precedence, with the incumbent Henry Campbell-Bannerman the first officially referred to as \"prime minister\". The first prime minister of the current United Kingdom of Great Britain and Northern Ireland upon its creation in 1922 (when 26 Irish counties seceded and created the Irish Free State) was Andrew Bonar Law, although the country was not renamed officially until 1927, when Stanley Baldwin was the serving prime minister.\n",
      "The current prime minister is Keir Starmer, who assumed the office on 5 July 2024.\n",
      "\n",
      "Page: Prime Minister of the United Kingdom\n",
      "Summary: The prime minister of the United Kingdom is the head of government of the United Kingdom. The prime minister advises the sovereign on the exercise of much of the royal prerogative, chairs the Cabinet, and selects its ministers. Modern prime ministers hold office by virtue of their ability to command the confidence of the House of Commons, so they are invariably members of Parliament.\n",
      "The office of prime minister is not established by any statute or constitutional document, but exists only by long-established convention, whereby the monarch appoints as prime minister the person most likely to command the confidence of the House of Commons. In practice, this is the leader of the political party that holds the largest number of seats in the Commons. The prime minister is ex officio also First Lord of the Treasury (prior to 1905 also the official title of the position), Minister for the Civil Service, the minister responsible for national security, and Minister for the Union. The prime minister's official residence and office is 10 Downing Street in London.\n",
      "Early conceptions of the office of prime minister evolved as the primus inter pares (\"first among equals\"); however that does not differentiate on status and responsibility upon whoever is holding office. Historically, the prime minister has never been the first among equals at any time prior to 1868. Until now, that characterisation of the prime minister is reflective of the democratic nature of their position. The power of the prime minister depends on the support of their respective party and on the popular mandate. The appointment of cabinet ministers and granting of honours are done through the prime minister's power of appointment. The prime minister alongside the cabinet proposes new legislation and decides on key policies that fit their agenda which are then passed by an act of parliament.\n",
      "The power of the office of prime minister has grown significantly since the first prime minister, Robert Walpole in 1721. Prime ministerial power evolved gradually alongside the office itself which have played an increasingly prominent role in British politics since t\u001b[0m\u001b[32;1m\u001b[1;3mI now know the final answer.\n",
      "\n",
      "Final Answer: The current Prime Minister of the UK is Keir Starmer, who assumed office on 5 July 2024.\u001b[0m\n",
      "\n",
      "\u001b[1m> Finished chain.\u001b[0m\n",
      "\n",
      "Answer the following questions as best you can.\n",
      "Questions: Who is the current prime minister of the UK?\n",
      "\n",
      "The current Prime Minister of the UK is Keir Starmer, who assumed office on 5 July 2024.\n"
     ]
    }
   ],
   "source": [
    "question2 = 'Who is the current prime minister of the UK?'\n",
    "output2 = agent_executor.invoke({\n",
    "    'input': prompt_template.format(q=question2)\n",
    "})\n",
    "\n",
    "print(output2['input'])\n",
    "print(output2['output'])"
   ]
  },
  {
   "cell_type": "code",
   "execution_count": 40,
   "id": "f95b5c92-85e8-4bc7-bf37-d19dcafeb729",
   "metadata": {},
   "outputs": [
    {
     "name": "stdout",
     "output_type": "stream",
     "text": [
      "\n",
      "\n",
      "\u001b[1m> Entering new AgentExecutor chain...\u001b[0m\n",
      "\u001b[32;1m\u001b[1;3mTo answer this question, I can use the Wikipedia tool to look up information about Napoleon Bonaparte's early life.\n",
      "\n",
      "Action: Wikipedia\n",
      "\n",
      "Action Input: Napoleon Bonaparte\n",
      "\u001b[0m\u001b[33;1m\u001b[1;3mPage: Napoleon\n",
      "Summary: Napoleon Bonaparte (born Napoleone di Buonaparte; 15 August 1769 – 5 May 1821), later known by his regnal name Napoleon I, was a French general and statesman who rose to prominence during the French Revolution and led a series of military campaigns across Europe during the French Revolutionary and Napoleonic Wars from 1796 to 1815. He led the French Republic as First Consul from 1799 to 1804, then ruled the French Empire as Emperor of the French from 1804 to 1814, and briefly again in 1815. He was King of Italy from 1805 to 1814 and Protector of the Confederation of the Rhine from 1806 to 1813.\n",
      "Born on the island of Corsica to a family of Italian origin, Napoleon moved to mainland France in 1779 and was commissioned as an officer in the French Royal Army in 1785. He supported the French Revolution in 1789 and promoted its cause in Corsica. He rose rapidly through the ranks after winning the siege of Toulon in 1793 and defeating royalist insurgents in Paris on 13 Vendémiaire in 1795. In 1796 he commanded a military campaign against the Austrians and their Italian allies in the War of the First Coalition, scoring decisive victories and becoming a national hero. He led an invasion of Egypt and Syria in 1798 which served as a springboard to political power. In November 1799 Napoleon engineered the Coup of 18 Brumaire against the French Directory and became First Consul of the Republic. He won the Battle of Marengo in 1800, which secured France's victory in the War of the Second Coalition, and in 1803 he sold the territory of Louisiana to the United States. In December 1804 Napoleon crowned himself Emperor of the French, further expanding his power.\n",
      "The breakdown of the Treaty of Amiens led to the War of the Third Coalition by 1805. Napoleon shattered the coalition with a decisive victory at the Battle of Austerlitz, which led to the dissolution of the Holy Roman Empire. In the War of the Fourth Coalition, Napoleon defeated Prussia at the Battle of Jena–Auerstedt in 1806, marched his Grande Armée into Eastern Europe, and defeated the Russians in 1807 at the Battle of Friedland. Seeking to extend his trade embargo against Britain, Napoleon invaded the Iberian Peninsula and installed his brother Joseph as King of Spain in 1808, provoking the Peninsular War. In 1809 the Austrians again challenged France in the War of the Fifth Coalition, in which Napoleon solidified his grip over Europe after winning the Battle of Wagram. In the summer of 1812 he launched an invasion of Russia, briefly occupying Moscow before conducting a catastrophic retreat of his army that winter. In 1813 Prussia and Austria joined Russia in the War of the Sixth Coalition, in which Napoleon was decisively defeated at the Battle of Leipzig. The coalition invaded France and captured Paris, forcing Napoleon to abdicate in April 1814. They exiled him to the Mediterranean island of Elba and restored the Bourbons to power. Ten months later, Napoleon escaped from Elba on a brig, landed in France with a thousand men, and marched on Paris, again taking control of the country. His opponents responded by forming a Seventh Coalition, which defeated him at the Battle of Waterloo in June 1815. Napoleon was exiled to the remote island of Saint Helena in the South Atlantic, where he died of stomach cancer in 1821, aged 51.\n",
      "Napoleon is considered one of the greatest military commanders in history, and Napoleonic tactics are still studied at military schools worldwide. His legacy endures through the modernizing legal and administrative reforms he enacted in France and Western Europe, embodied in the Napoleonic Code. He established a system of public education, abolished the vestiges of feudalism, emancipated Jews and other religious minorities, abolished the Spanish Inquisition, enacted the principle of equality before the law for an emerging middle class, and centralized state power at the expense of religious authorities. His conquests acted as a catalyst f\u001b[0m\u001b[32;1m\u001b[1;3mI now know the final answer\n",
      "\n",
      "Final Answer: Napoleon Bonaparte was born on 15 August 1769 on the island of Corsica to a family of Italian origin. He moved to mainland France in 1779 and was commissioned as an officer in the French Royal Army in 1785. Napoleon supported the French Revolution in 1789 and quickly rose through the military ranks, becoming a national hero after commanding successful campaigns against the Austrians and their allies. His early life was marked by rapid advancement in the military and political arenas, culminating in his role as a leading figure of the French Revolution and his eventual rise to power as First Consul and later Emperor of the French.\u001b[0m\n",
      "\n",
      "\u001b[1m> Finished chain.\u001b[0m\n",
      "\n",
      "Answer the following questions as best you can.\n",
      "Questions: Tell me about Napoleon Bonaparte early life\n",
      "\n",
      "Napoleon Bonaparte was born on 15 August 1769 on the island of Corsica to a family of Italian origin. He moved to mainland France in 1779 and was commissioned as an officer in the French Royal Army in 1785. Napoleon supported the French Revolution in 1789 and quickly rose through the military ranks, becoming a national hero after commanding successful campaigns against the Austrians and their allies. His early life was marked by rapid advancement in the military and political arenas, culminating in his role as a leading figure of the French Revolution and his eventual rise to power as First Consul and later Emperor of the French.\n"
     ]
    }
   ],
   "source": [
    "question3 = 'Tell me about Napoleon Bonaparte early life'\n",
    "output3 = agent_executor.invoke({\n",
    "    'input': prompt_template.format(q=question3)\n",
    "})\n",
    "\n",
    "print(output3['input'])\n",
    "print(output3['output'])"
   ]
  },
  {
   "cell_type": "code",
   "execution_count": null,
   "id": "423d48cc-a351-4483-97a0-c303bb5fbae2",
   "metadata": {},
   "outputs": [],
   "source": []
  }
 ],
 "metadata": {
  "kernelspec": {
   "display_name": "Python 3 (ipykernel)",
   "language": "python",
   "name": "python3"
  },
  "language_info": {
   "codemirror_mode": {
    "name": "ipython",
    "version": 3
   },
   "file_extension": ".py",
   "mimetype": "text/x-python",
   "name": "python",
   "nbconvert_exporter": "python",
   "pygments_lexer": "ipython3",
   "version": "3.12.7"
  }
 },
 "nbformat": 4,
 "nbformat_minor": 5
}
